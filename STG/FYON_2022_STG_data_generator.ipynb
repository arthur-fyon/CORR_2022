{
 "cells": [
  {
   "cell_type": "markdown",
   "id": "54245f1e",
   "metadata": {},
   "source": [
    "### *This file allows to generate all data necessary for all figures*"
   ]
  },
  {
   "cell_type": "markdown",
   "id": "27d086ba",
   "metadata": {},
   "source": [
    "# **Useful packages and functions**"
   ]
  },
  {
   "cell_type": "code",
   "execution_count": 1,
   "id": "bcdd32d9",
   "metadata": {},
   "outputs": [],
   "source": [
    "using DifferentialEquations, Plots, Polynomials, LaTeXStrings, ColorSchemes, DelimitedFiles\n",
    "using Statistics, StatsPlots, Random, ProgressMeter, Printf, LinearAlgebra\n",
    "include(\"FYON_2022_STG_kinetics.jl\") # Loading of STG kinetics of gating variables\n",
    "include(\"FYON_2022_STG_models.jl\") # Loading of STG model\n",
    "include(\"FYON_2022_STG_utils.jl\") # Loading of some utils functions\n",
    "include(\"FYON_2022_STG_gs_derivatives.jl\") # Loading of X_inf derivatives\n",
    "include(\"FYON_2022_STG_DIC.jl\") # Loading of the DIC and compensation algorithm\n",
    "include(\"FYON_2022_STG_neuromodulation.jl\"); # Loading of the neuromodulation cells functions"
   ]
  },
  {
   "cell_type": "markdown",
   "id": "7b90e6d0",
   "metadata": {},
   "source": [
    "# **Global variables**"
   ]
  },
  {
   "cell_type": "code",
   "execution_count": 2,
   "id": "e0c8d5cc",
   "metadata": {},
   "outputs": [],
   "source": [
    "# Definition of simulation time (in ms)\n",
    "const Tfinal = 5000\n",
    "const tspan  = (0.0, Tfinal)\n",
    "\n",
    "# Definition of reversal potential values (in mV) and membrane capacitance\n",
    "const C     = 1. # Membrane capacitance\n",
    "const VNa   = 50 # Sodium reversal potential\n",
    "const VK    = -80 # Potassium reversal potential\n",
    "const VCa   = 80 # Calcium reversal potential\n",
    "const VH    = -20 # HCN channels reversal potential\n",
    "const Vleak = -50 # Leak reversal potential\n",
    "\n",
    "# Definition of voltage range for the DICs\n",
    "const Vmin = -60 \n",
    "const Vmax = 0\n",
    "const V    = range(Vmin, stop=Vmax, step=0.01)\n",
    "\n",
    "# Definition of the number of cells in the random set\n",
    "const ncells = 200;"
   ]
  },
  {
   "cell_type": "markdown",
   "id": "d168bcc3",
   "metadata": {},
   "source": [
    "# **Generating high frequency bursting neurons using Monte Carlo (Figure 1)**"
   ]
  },
  {
   "cell_type": "code",
   "execution_count": 3,
   "id": "9520fbc1",
   "metadata": {},
   "outputs": [],
   "source": [
    "# Initializing some variables\n",
    "Na_max = 8000\n",
    "CaT_max = 12\n",
    "CaS_max = 50\n",
    "A_max = 600\n",
    "KCa_max = 250\n",
    "Kd_max = 350\n",
    "H_max = 0.7\n",
    "leak_max = 0.02\n",
    "N = 7e4\n",
    "VV_maxmax = 49.95\n",
    "VV_maxmin = 49.9\n",
    "VV_minmax = -69.\n",
    "VV_minmin = -76.\n",
    "nb_spikes_target = 5\n",
    "burstiness_min = 3000.\n",
    "burstiness_max = 7000.\n",
    "interburst_f_min = 8.8\n",
    "interburst_f_max = 9.9\n",
    "intraburst_f_max = 140.\n",
    "intraburst_f_min = 70.;"
   ]
  },
  {
   "cell_type": "code",
   "execution_count": null,
   "id": "bd8cc464",
   "metadata": {},
   "outputs": [],
   "source": [
    "# Fixing random seed\n",
    "Random.seed!(542)\n",
    "\n",
    "# Initializing a flag\n",
    "flag_start = true\n",
    "\n",
    "@showprogress 1 \"Computing...\" for i = 1 : N\n",
    "    # Generating random conductances\n",
    "    gleak = 0.007 + 0.007 * rand(1, 1)[1]\n",
    "    gCaT = 0.95 * CaT_max * rand(1, 1)[1]\n",
    "    gCaS = 0.95 * CaS_max * rand(1, 1)[1]\n",
    "    gKd = 0.95 * Kd_max * rand(1, 1)[1]\n",
    "    gKCa = 0.95 * KCa_max * rand(1, 1)[1]\n",
    "    gNa = 0.95 * Na_max * rand(1, 1)[1]\n",
    "    gA = 0.95 * A_max * rand(1, 1)[1]\n",
    "    gH = 0.95 * H_max * rand(1, 1)[1]\n",
    "\n",
    "    # Parameter vector for simulations\n",
    "    p = [0., gNa, gCaT, gCaS, gA, gKCa, gKd, gH, gleak, C]\n",
    "\n",
    "    # Initial conditions\n",
    "    V0  = -70.\n",
    "    Ca0 = 0.5\n",
    "    x0  = [V0, mNa_inf(V0), hNa_inf(V0), mCaT_inf(V0), hCaT_inf(V0), mCaS_inf(V0), \n",
    "          hCaS_inf(V0), mA_inf(V0), hA_inf(V0), mKCa_inf(V0, Ca0), mKd_inf(V0), mH_inf(V0), Ca0]\n",
    "\n",
    "    # Simulation\n",
    "    prob = ODEProblem(STG_ODE, x0, tspan, p) # Describing the problem\n",
    "    sol = solve(prob, saveat=0.1, verbose=false, maxiters=40) # Solving the problem\n",
    "\n",
    "    # Saving results\n",
    "    VV = sol[1, 30001:end]\n",
    "    tt = sol.t[30001:end]\n",
    "\n",
    "    # Computing spiking frequency\n",
    "    if length(tt) < 1\n",
    "        burstiness = 0.\n",
    "        nb_spikes = 0.\n",
    "        intraburst_f = 0.\n",
    "        interburst_f = 0.\n",
    "        V_maxi = 0.\n",
    "        V_mini = 0.\n",
    "    elseif tt[end] != Tfinal\n",
    "        burstiness = 0.\n",
    "        nb_spikes = 0.\n",
    "        intraburst_f = 0.\n",
    "        interburst_f = 0.\n",
    "        V_maxi = 0.\n",
    "        V_mini = 0.\n",
    "    else\n",
    "        (burstiness, nb_spikes, intraburst_f, interburst_f) = extract_burstiness(VV, tt)\n",
    "        V_maxi = maximum(VV)\n",
    "        V_mini = minimum(VV)\n",
    "    end\n",
    "    \n",
    "    # Saving if spiking frequency is in the right order of magnitude\n",
    "    if (V_maxi <= VV_maxmax && V_maxi >= VV_maxmin &&\n",
    "        V_mini <= VV_minmax && V_mini >= VV_minmin &&\n",
    "        burstiness <= burstiness_max && burstiness >= burstiness_min &&\n",
    "        intraburst_f <= intraburst_f_max && intraburst_f >= intraburst_f_min &&\n",
    "        interburst_f <= interburst_f_max && interburst_f >= interburst_f_min &&\n",
    "        nb_spikes == nb_spikes_target)\n",
    "        if flag_start\n",
    "            # Creating the conductance matrix\n",
    "            global g_all_MC = [gNa, gCaT, gCaS, gA, gKCa, gKd, gH, gleak]\n",
    "            flag_start = false\n",
    "        else\n",
    "            # Adding a line to the conductance matrix\n",
    "            g_all_MC = hcat(g_all_MC, [gNa, gCaT, gCaS, gA, gKCa, gKd, gH, gleak])\n",
    "\n",
    "            # If we reach 200 neurons, break the loop\n",
    "            if size(g_all_MC)[2] >= ncells\n",
    "                break\n",
    "            end\n",
    "        end\n",
    "    end\n",
    "end\n",
    "\n",
    "# Transposing the conductance matrix\n",
    "if @isdefined g_all_MC\n",
    "    g_all_MC = g_all_MC'\n",
    "end;"
   ]
  },
  {
   "cell_type": "code",
   "execution_count": null,
   "id": "293bd48a",
   "metadata": {},
   "outputs": [],
   "source": [
    "writedlm(\"./data/g_all_MC.dat\", g_all_MC);"
   ]
  },
  {
   "cell_type": "markdown",
   "id": "d2a87655",
   "metadata": {},
   "source": [
    "# **Generating full random neurons using Monte Carlo to project into DICs space (Figure 2A)**"
   ]
  },
  {
   "cell_type": "code",
   "execution_count": 3,
   "id": "0d21a44d",
   "metadata": {},
   "outputs": [
    {
     "name": "stderr",
     "output_type": "stream",
     "text": [
      "WARNING: redefinition of constant ncells. This may fail, cause incorrect answers, or produce other errors.\n"
     ]
    }
   ],
   "source": [
    "# Definition of the number of cells in the random set\n",
    "const ncells = 5000;"
   ]
  },
  {
   "cell_type": "code",
   "execution_count": 4,
   "id": "340b4cd3",
   "metadata": {},
   "outputs": [
    {
     "name": "stderr",
     "output_type": "stream",
     "text": [
      "\u001b[32mComputing... 100%|███████████████████████████████████████| Time: 0:02:50\u001b[39m9m39mmmm9mmm\n"
     ]
    }
   ],
   "source": [
    "# Fixing random seed\n",
    "Random.seed!(544);\n",
    "\n",
    "# Initializing some variables\n",
    "Istaticth = 0.01\n",
    "nb_channels = 8\n",
    "g_all_Vth = zeros(ncells, nb_channels + 1)\n",
    "ICs_th_Vth = zeros(ncells, 8)\n",
    "@showprogress 1 \"Computing...\" for n = 1 : ncells\n",
    "    gNa = 600 + 1400 * rand(1,1)[1]\n",
    "    gCaT = 6 * rand(1,1)[1]\n",
    "    gCaS = 12 * rand(1,1)[1]\n",
    "    gA = 20 + 110 * rand(1,1)[1]\n",
    "    gKd = 90 + 30 * rand(1,1)[1]\n",
    "    gKCa = 20 + 120 * rand(1,1)[1]\n",
    "    gH = 0.05 + 0.2 * rand(1,1)[1]\n",
    "    gleak = 0.01\n",
    "\n",
    "    (ith, iosc, gf, gs, gu, gin, Istatic) = DICs(V, 0., gNa, gCaT, gCaS, gA, gKCa, gKd, gH, gleak)\n",
    "\n",
    "    Ca = -0.94 * (gCaT * mCaT_inf(V[ith])^3 * hCaT_inf(V[ith])*(V[ith]-VCa) +\n",
    "                  gCaS * mCaS_inf(V[ith])^3 * hCaS_inf(V[ith])*(V[ith]-VCa)) + 0.05\n",
    "    Iapp = (Istaticth - (-gNa * mNa_inf(V[ith])^3 * hNa_inf(V[ith]) * (V[ith]-VNa) -\n",
    "                          gCaT * mCaT_inf(V[ith])^3 * hCaT_inf(V[ith]) * (V[ith]-VCa) -\n",
    "                          gCaS * mCaS_inf(V[ith])^3 * hCaS_inf(V[ith]) * (V[ith]-VCa) -\n",
    "                          gA * mA_inf(V[ith])^3 * hA_inf(V[ith]) * (V[ith]-VK) -\n",
    "                          gKCa * mKCa_inf(V[ith],Ca)^4 * (V[ith]-VK) -\n",
    "                          gKd * mKd_inf(V[ith])^4 * (V[ith]-VK) -\n",
    "                          gH * mH_inf(V[ith]) * (V[ith]-VH) -\n",
    "                          gleak * (V[ith]-Vleak)))\n",
    "\n",
    "    (ith, iosc, gf, gs, gu, gin, Istatic) = DICs(V, Iapp, gNa, gCaT, gCaS, gA, gKCa, gKd, gH, gleak)\n",
    "\n",
    "    ICs_th_Vth[n, :] = [V[ith], V[iosc], gf[ith], gs[ith], gs[iosc], gu[ith], gin[ith], Istatic[ith]]\n",
    "    g_all_Vth[n, :] = [gNa, gCaT, gCaS, gA, gKd, gKCa, gH, gleak, Iapp]\n",
    "end"
   ]
  },
  {
   "cell_type": "code",
   "execution_count": 5,
   "id": "551ba5e6",
   "metadata": {},
   "outputs": [],
   "source": [
    "writedlm(\"./data/ICs_th_Vth.dat\", ICs_th_Vth)\n",
    "\n",
    "writedlm(\"./data/g_all_Vth.dat\", g_all_Vth);"
   ]
  },
  {
   "cell_type": "markdown",
   "id": "277bc355",
   "metadata": {},
   "source": [
    "# **Generating high frequency bursting neurons using DICs method (Figure 3A), separated and not**"
   ]
  },
  {
   "cell_type": "code",
   "execution_count": 6,
   "id": "c3de658a",
   "metadata": {},
   "outputs": [
    {
     "name": "stderr",
     "output_type": "stream",
     "text": [
      "WARNING: redefinition of constant ncells. This may fail, cause incorrect answers, or produce other errors.\n"
     ]
    }
   ],
   "source": [
    "# Definition of the number of cells in the random set\n",
    "const ncells = 500;"
   ]
  },
  {
   "cell_type": "code",
   "execution_count": 7,
   "id": "31997394",
   "metadata": {},
   "outputs": [],
   "source": [
    "# Fixing random seed\n",
    "Random.seed!(544);\n",
    "\n",
    "# Initial firing pattern\n",
    "guth = 4.\n",
    "Vth = -50.\n",
    "(g_all_init, ICs_th_init) = degeneracy_fixDICs_neuromod(ncells, 5., guth, Vth)\n",
    "# create a spiking set with max variability in gCaS and gA\n",
    "\n",
    "# Neuromodulating the initial set to the same value of gs_th (convention in the codes)\n",
    "(g_all_bursting, ICs_th_bursting) = neuromodCaSA(ncells, g_all_init, ICs_th_init, -8., guth);"
   ]
  },
  {
   "cell_type": "code",
   "execution_count": 8,
   "id": "381c5bd9",
   "metadata": {},
   "outputs": [],
   "source": [
    "writedlm(\"./data/g_all_bursting.dat\", g_all_bursting);"
   ]
  },
  {
   "cell_type": "code",
   "execution_count": 5,
   "id": "76fc0563",
   "metadata": {},
   "outputs": [],
   "source": [
    "# Fixing random seed\n",
    "Random.seed!(544);\n",
    "\n",
    "# Initial firing pattern\n",
    "guth = 4.\n",
    "Vth = -50.\n",
    "(g_all_init_DIC, ICs_th_init_DIC) = degeneracy_fixDICs_neuromodDIC(ncells, 5., guth, Vth)\n",
    "# create a spiking set with max variability in gCaS and gA\n",
    "\n",
    "# Neuromodulating the initial set to obtain doublets and bursting\n",
    "(g_all_bursting_DIC, ICs_th_bursting_DIC) = neuromodCaSA(ncells, g_all_init_DIC, ICs_th_init_DIC, -8., guth);"
   ]
  },
  {
   "cell_type": "code",
   "execution_count": 10,
   "id": "4d69de43",
   "metadata": {},
   "outputs": [],
   "source": [
    "writedlm(\"./data/g_all_bursting_DIC.dat\", g_all_bursting_DIC);"
   ]
  },
  {
   "cell_type": "code",
   "execution_count": 6,
   "id": "ea0b8b30",
   "metadata": {},
   "outputs": [],
   "source": [
    "# Fixing random seed\n",
    "Random.seed!(544);\n",
    "\n",
    "# Initial firing pattern\n",
    "guth = 4.\n",
    "Vth = -50.\n",
    "(g_all_init_leak, ICs_th_init_leak) = degeneracy_fixDICs_neuromodleak(ncells, 5., guth, Vth)\n",
    "# create a spiking set with max variability in gCaS and gA\n",
    "\n",
    "# Neuromodulating the initial set to obtain spiking, doublets and bursting\n",
    "(g_all_bursting_leak, ICs_th_bursting_leak) = neuromodCaSA(ncells, g_all_init_leak, ICs_th_init_leak, -8., guth);"
   ]
  },
  {
   "cell_type": "code",
   "execution_count": 12,
   "id": "915c1dc3",
   "metadata": {},
   "outputs": [],
   "source": [
    "writedlm(\"./data/g_all_bursting_leak.dat\", g_all_bursting_leak);"
   ]
  },
  {
   "cell_type": "markdown",
   "id": "ef76de7e",
   "metadata": {},
   "source": [
    "# **Generating many high frequency bursting neurons using DICs method (Figure 3B), not separated**"
   ]
  },
  {
   "cell_type": "code",
   "execution_count": 15,
   "id": "c6bc636f",
   "metadata": {},
   "outputs": [
    {
     "name": "stderr",
     "output_type": "stream",
     "text": [
      "WARNING: redefinition of constant ncells. This may fail, cause incorrect answers, or produce other errors.\n"
     ]
    }
   ],
   "source": [
    "# Definition of the number of cells in the random set\n",
    "const ncells = 2000;"
   ]
  },
  {
   "cell_type": "code",
   "execution_count": 16,
   "id": "3cc6b3c2",
   "metadata": {},
   "outputs": [],
   "source": [
    "# Fixing random seed\n",
    "Random.seed!(544);\n",
    "\n",
    "# Initial firing pattern\n",
    "guth = 4.\n",
    "Vth = -50.\n",
    "(g_all_init_many, ICs_th_init_many) = degeneracy_fixDICs_neuromod(ncells, 5., guth, Vth)\n",
    "# create a spiking set with max variability in gCaS and gA\n",
    "\n",
    "# Neuromodulating the initial set to the same value of gs_th (convention in the codes)\n",
    "(g_all_bursting_many, ICs_th_bursting_many) = neuromodCaSA(ncells, g_all_init_many, ICs_th_init_many, -8., guth);"
   ]
  },
  {
   "cell_type": "code",
   "execution_count": 17,
   "id": "e0e53445",
   "metadata": {},
   "outputs": [],
   "source": [
    "writedlm(\"./data/g_all_bursting_many.dat\", g_all_bursting_many);"
   ]
  },
  {
   "cell_type": "markdown",
   "id": "576f4177",
   "metadata": {},
   "source": [
    "# **Generating neuromodulated neurons using DICs method (Figure 4), separated and not**"
   ]
  },
  {
   "cell_type": "code",
   "execution_count": 18,
   "id": "569fe577",
   "metadata": {},
   "outputs": [
    {
     "name": "stderr",
     "output_type": "stream",
     "text": [
      "WARNING: redefinition of constant ncells. This may fail, cause incorrect answers, or produce other errors.\n"
     ]
    }
   ],
   "source": [
    "# Definition of the number of cells in the random set\n",
    "const ncells = 500;"
   ]
  },
  {
   "cell_type": "code",
   "execution_count": 7,
   "id": "c89d858b",
   "metadata": {},
   "outputs": [],
   "source": [
    "(g_all_spiking, ICs_th_spiking) = neuromodCaSA(ncells, g_all_init, ICs_th_init, 5., guth)\n",
    "\n",
    "(g_all_doublets, ICs_th_doublets) = neuromodCaSA(ncells, g_all_init, ICs_th_init, -2., guth);"
   ]
  },
  {
   "cell_type": "code",
   "execution_count": 20,
   "id": "99ec314d",
   "metadata": {},
   "outputs": [],
   "source": [
    "writedlm(\"./data/g_all_spiking.dat\", g_all_spiking)\n",
    "\n",
    "writedlm(\"./data/g_all_doublets.dat\", g_all_doublets);"
   ]
  },
  {
   "cell_type": "code",
   "execution_count": 8,
   "id": "09b9087d",
   "metadata": {},
   "outputs": [],
   "source": [
    "(g_all_spiking_DIC, ICs_th_spiking_DIC) = neuromodCaSA(ncells, g_all_init_DIC, ICs_th_init_DIC, 5., guth)\n",
    "\n",
    "(g_all_doublets_DIC, ICs_th_doublets_DIC) = neuromodCaSA(ncells, g_all_init_DIC, ICs_th_init_DIC, -2., guth);"
   ]
  },
  {
   "cell_type": "code",
   "execution_count": 27,
   "id": "ea401838",
   "metadata": {},
   "outputs": [],
   "source": [
    "writedlm(\"./data/g_all_spiking_DIC.dat\", g_all_spiking_DIC)\n",
    "\n",
    "writedlm(\"./data/g_all_doublets_DIC.dat\", g_all_doublets_DIC);"
   ]
  },
  {
   "cell_type": "code",
   "execution_count": 9,
   "id": "6f30f845",
   "metadata": {},
   "outputs": [],
   "source": [
    "(g_all_spiking_leak, ICs_th_spiking_leak) = neuromodCaSA(ncells, g_all_init_leak, ICs_th_init_leak, 5., guth)\n",
    "\n",
    "(g_all_doublets_leak, ICs_th_doublets_leak) = neuromodCaSA(ncells, g_all_init_leak, ICs_th_init_leak, -2., guth);"
   ]
  },
  {
   "cell_type": "code",
   "execution_count": 29,
   "id": "f5357673",
   "metadata": {},
   "outputs": [],
   "source": [
    "writedlm(\"./data/g_all_spiking_leak.dat\", g_all_spiking_leak)\n",
    "\n",
    "writedlm(\"./data/g_all_doublets_leak.dat\", g_all_doublets_leak);"
   ]
  },
  {
   "cell_type": "markdown",
   "id": "cc0037af",
   "metadata": {},
   "source": [
    "# **Computing burstiness of neuromodulated neurons (Figure 4)**"
   ]
  },
  {
   "cell_type": "code",
   "execution_count": 30,
   "id": "e054dec6",
   "metadata": {},
   "outputs": [
    {
     "name": "stderr",
     "output_type": "stream",
     "text": [
      "\u001b[32mComputing first part... 100%|████████████████████████████| Time: 0:02:14\u001b[39m\n",
      "\u001b[32mComputing second part... 100%|███████████████████████████| Time: 0:03:05\u001b[39m\n"
     ]
    }
   ],
   "source": [
    "## Verifying robustness of the neuromodulated bursting sets\n",
    "# Initializing variables\n",
    "burstiness_doublets = zeros(ncells)\n",
    "nb_spikes_doublets = zeros(ncells)\n",
    "intraburst_f_doublets = zeros(ncells)\n",
    "interburst_f_doublets = zeros(ncells)\n",
    "\n",
    "# Loop over all neurons in the set\n",
    "@showprogress 1 \"Computing first part...\" for i = 1 : ncells\n",
    "  # Extracting the maximal ion channel conductances\n",
    "  (gNa, gCaT, gCaS, gA, gKCa, gKd, gH, gleak) = g_all_doublets[i, :]\n",
    "\n",
    "  # Input current definition\n",
    "  Iapp = 0.\n",
    "\n",
    "  # Parameter vector for simulations\n",
    "  p = [Iapp, gNa, gCaT, gCaS, gA, gKCa, gKd, gH, gleak, C]\n",
    "\n",
    "  # Initial conditions\n",
    "  V0  = -70.\n",
    "  Ca0 = 0.5\n",
    "  x0  = [V0, mNa_inf(V0), hNa_inf(V0), mCaT_inf(V0), hCaT_inf(V0), mCaS_inf(V0), \n",
    "        hCaS_inf(V0), mA_inf(V0), hA_inf(V0), mKCa_inf(V0, Ca0), mKd_inf(V0), mH_inf(V0), Ca0]\n",
    "    \n",
    "  # Simulation\n",
    "  prob = ODEProblem(STG_ODE, x0, tspan, p)\n",
    "  sol = solve(prob, saveat=0.1, verbose=false)\n",
    "\n",
    "  # Removing transient part\n",
    "  V_t = sol[1, :][5001 : end]\n",
    "  t = sol.t[5001 : end]\n",
    "    \n",
    "  # Computing the burstiness and burst characteristics of the firing pattern\n",
    "  (burstiness_doublets[i], nb_spikes_doublets[i], intraburst_f_doublets[i], \n",
    "        interburst_f_doublets[i]) = extract_burstiness(V_t, t)\n",
    "end\n",
    "\n",
    "# Removing unsuccessful simulations (only fews)\n",
    "burstiness_doublets_plot = deepcopy(burstiness_doublets)\n",
    "burstiness_doublets = burstiness_doublets[.!isnan.(burstiness_doublets)]\n",
    "nb_spikes_doublets = nb_spikes_doublets[.!isnan.(nb_spikes_doublets)]\n",
    "intraburst_f_doublets = intraburst_f_doublets[.!isnan.(intraburst_f_doublets)]\n",
    "interburst_f_doublets = interburst_f_doublets[.!isnan.(interburst_f_doublets)]\n",
    "\n",
    "# Initializing variables\n",
    "burstiness_bursting = zeros(ncells)\n",
    "nb_spikes_bursting = zeros(ncells)\n",
    "intraburst_f_bursting = zeros(ncells)\n",
    "interburst_f_bursting = zeros(ncells)\n",
    "\n",
    "# Loop over all neurons in the set\n",
    "@showprogress 1 \"Computing second part...\" for i = 1 : ncells\n",
    "  # Extracting the maximal ion channel conductances\n",
    "  (gNa, gCaT, gCaS, gA, gKCa, gKd, gH, gleak) = g_all_bursting[i, :]\n",
    "\n",
    "  # Input current definition\n",
    "  Iapp = 0.\n",
    "\n",
    "  # Parameter vector for simulations\n",
    "  p = [Iapp, gNa, gCaT, gCaS, gA, gKCa, gKd, gH, gleak, C]\n",
    "\n",
    "  # Initial conditions\n",
    "  V0  = -70.\n",
    "  Ca0 = 0.5\n",
    "  x0  = [V0, mNa_inf(V0), hNa_inf(V0), mCaT_inf(V0), hCaT_inf(V0), mCaS_inf(V0), \n",
    "        hCaS_inf(V0), mA_inf(V0), hA_inf(V0), mKCa_inf(V0, Ca0), mKd_inf(V0), mH_inf(V0), Ca0]\n",
    "    \n",
    "  # Simulation\n",
    "  prob = ODEProblem(STG_ODE, x0, tspan, p)\n",
    "  sol = solve(prob, saveat=0.1, verbose=false)\n",
    "\n",
    "  # Removing transient part\n",
    "  V_t = sol[1, :][5001 : end]\n",
    "  t = sol.t[5001 : end]\n",
    "    \n",
    "  # Computing the burstiness and burst characteristics of the firing pattern\n",
    "  (burstiness_bursting[i], nb_spikes_bursting[i], intraburst_f_bursting[i], \n",
    "        interburst_f_bursting[i]) = extract_burstiness(V_t, t)\n",
    "end\n",
    "\n",
    "# Removing unsuccessful simulations (only fews)\n",
    "burstiness_bursting = burstiness_bursting[.!isnan.(burstiness_bursting)]\n",
    "nb_spikes_bursting = nb_spikes_bursting[.!isnan.(nb_spikes_bursting)]\n",
    "intraburst_f_bursting = intraburst_f_bursting[.!isnan.(intraburst_f_bursting)]\n",
    "interburst_f_bursting = interburst_f_bursting[.!isnan.(interburst_f_bursting)];"
   ]
  },
  {
   "cell_type": "code",
   "execution_count": 31,
   "id": "544f960d",
   "metadata": {},
   "outputs": [],
   "source": [
    "writedlm(\"./data/burstiness_doublets_plot.dat\", burstiness_doublets_plot)\n",
    "writedlm(\"./data/burstiness_doublets.dat\", burstiness_doublets)\n",
    "\n",
    "writedlm(\"./data/burstiness_bursting.dat\", burstiness_bursting);"
   ]
  },
  {
   "cell_type": "code",
   "execution_count": 10,
   "id": "26e9a5ce",
   "metadata": {},
   "outputs": [
    {
     "name": "stderr",
     "output_type": "stream",
     "text": [
      "\u001b[32mComputing first part... 100%|████████████████████████████| Time: 0:02:23\u001b[39mm\n",
      "\u001b[32mComputing second part... 100%|███████████████████████████| Time: 0:03:03\u001b[39m\n"
     ]
    }
   ],
   "source": [
    "## Verifying robustness of the neuromodulated bursting sets\n",
    "# Initializing variables\n",
    "burstiness_doublets_DIC = zeros(ncells)\n",
    "nb_spikes_doublets_DIC = zeros(ncells)\n",
    "intraburst_f_doublets_DIC = zeros(ncells)\n",
    "interburst_f_doublets_DIC = zeros(ncells)\n",
    "\n",
    "# Loop over all neurons in the set\n",
    "@showprogress 1 \"Computing first part...\" for i = 1 : ncells\n",
    "  # Extracting the maximal ion channel conductances\n",
    "  (gNa, gCaT, gCaS, gA, gKCa, gKd, gH, gleak) = g_all_doublets_DIC[i,:]\n",
    "\n",
    "  # Input current definition\n",
    "  Iapp = 0.\n",
    "\n",
    "  # Parameter vector for simulations\n",
    "  p = [Iapp, gNa, gCaT, gCaS, gA, gKCa, gKd, gH, gleak, C]\n",
    "\n",
    "  # Initial conditions\n",
    "  V0  = -70.\n",
    "  Ca0 = 0.5\n",
    "  x0  = [V0, mNa_inf(V0), hNa_inf(V0), mCaT_inf(V0), hCaT_inf(V0), mCaS_inf(V0), \n",
    "        hCaS_inf(V0), mA_inf(V0), hA_inf(V0), mKCa_inf(V0, Ca0), mKd_inf(V0), mH_inf(V0), Ca0]\n",
    "    \n",
    "  # Simulation\n",
    "  prob = ODEProblem(STG_ODE, x0, tspan, p)\n",
    "  sol = solve(prob, saveat=0.1, verbose=false)\n",
    "\n",
    "  # Removing transient part\n",
    "  V_t = sol[1, :][5001 : end]\n",
    "  t = sol.t[5001 : end]\n",
    "    \n",
    "  # Computing the burstiness and burst characteristics of the firing pattern\n",
    "  (burstiness_doublets_DIC[i], nb_spikes_doublets_DIC[i], intraburst_f_doublets_DIC[i], \n",
    "        interburst_f_doublets_DIC[i]) = extract_burstiness(V_t, t)\n",
    "end\n",
    "\n",
    "# Removing unsuccessful simulations (only fews)\n",
    "burstiness_doublets_DIC_plot = deepcopy(burstiness_doublets_DIC)\n",
    "burstiness_doublets_DIC = burstiness_doublets_DIC[.!isnan.(burstiness_doublets_DIC)]\n",
    "nb_spikes_doublets_DIC = nb_spikes_doublets_DIC[.!isnan.(nb_spikes_doublets_DIC)]\n",
    "intraburst_f_doublets_DIC = intraburst_f_doublets_DIC[.!isnan.(intraburst_f_doublets_DIC)]\n",
    "interburst_f_doublets_DIC = interburst_f_doublets_DIC[.!isnan.(interburst_f_doublets_DIC)]\n",
    "\n",
    "# Initializing variables\n",
    "burstiness_bursting_DIC = zeros(ncells)\n",
    "nb_spikes_bursting_DIC = zeros(ncells)\n",
    "intraburst_f_bursting_DIC = zeros(ncells)\n",
    "interburst_f_bursting_DIC = zeros(ncells)\n",
    "\n",
    "# Loop over all neurons in the set\n",
    "@showprogress 1 \"Computing second part...\" for i = 1 : ncells\n",
    "  # Extracting the maximal ion channel conductances\n",
    "  (gNa, gCaT, gCaS, gA, gKCa, gKd, gH, gleak) = g_all_bursting_DIC[i,:]\n",
    "\n",
    "  # Input current definition\n",
    "  Iapp = 0.\n",
    "\n",
    "  # Parameter vector for simulations\n",
    "  p = [Iapp, gNa, gCaT, gCaS, gA, gKCa, gKd, gH, gleak, C]\n",
    "\n",
    "  # Initial conditions\n",
    "  V0  = -70.\n",
    "  Ca0 = 0.5\n",
    "  x0  = [V0, mNa_inf(V0), hNa_inf(V0), mCaT_inf(V0), hCaT_inf(V0), mCaS_inf(V0), \n",
    "        hCaS_inf(V0), mA_inf(V0), hA_inf(V0), mKCa_inf(V0, Ca0), mKd_inf(V0), mH_inf(V0), Ca0]\n",
    "    \n",
    "  # Simulation\n",
    "  prob = ODEProblem(STG_ODE, x0, tspan, p)\n",
    "  sol = solve(prob, saveat=0.1, verbose=false)\n",
    "\n",
    "  # Removing transient part\n",
    "  V_t = sol[1, :][5001 : end]\n",
    "  t = sol.t[5001 : end]\n",
    "    \n",
    "  # Computing the burstiness and burst characteristics of the firing pattern\n",
    "  (burstiness_bursting_DIC[i], nb_spikes_bursting_DIC[i], intraburst_f_bursting_DIC[i], \n",
    "        interburst_f_bursting_DIC[i]) = extract_burstiness(V_t, t)\n",
    "end\n",
    "\n",
    "# Removing unsuccessful simulations (only fews)\n",
    "burstiness_bursting_DIC = burstiness_bursting_DIC[.!isnan.(burstiness_bursting_DIC)]\n",
    "nb_spikes_bursting_DIC = nb_spikes_bursting_DIC[.!isnan.(nb_spikes_bursting_DIC)]\n",
    "intraburst_f_bursting_DIC = intraburst_f_bursting_DIC[.!isnan.(intraburst_f_bursting_DIC)]\n",
    "interburst_f_bursting_DIC = interburst_f_bursting_DIC[.!isnan.(interburst_f_bursting_DIC)];"
   ]
  },
  {
   "cell_type": "code",
   "execution_count": 11,
   "id": "ccaf0cc5",
   "metadata": {},
   "outputs": [],
   "source": [
    "writedlm(\"./data/burstiness_doublets_DIC_plot.dat\", burstiness_doublets_DIC_plot)\n",
    "writedlm(\"./data/burstiness_doublets_DIC.dat\", burstiness_doublets_DIC)\n",
    "\n",
    "writedlm(\"./data/burstiness_bursting_DIC.dat\", burstiness_bursting_DIC);"
   ]
  },
  {
   "cell_type": "code",
   "execution_count": 12,
   "id": "a05ac312",
   "metadata": {},
   "outputs": [
    {
     "name": "stderr",
     "output_type": "stream",
     "text": [
      "\u001b[32mComputing first part... 100%|████████████████████████████| Time: 0:01:55\u001b[39m\n",
      "\u001b[32mComputing second part... 100%|███████████████████████████| Time: 0:03:11\u001b[39m\n"
     ]
    }
   ],
   "source": [
    "## Verifying robustness of the neuromodulated bursting sets\n",
    "# Initializing variables\n",
    "burstiness_doublets_leak = zeros(ncells)\n",
    "nb_spikes_doublets_leak = zeros(ncells)\n",
    "intraburst_f_doublets_leak = zeros(ncells)\n",
    "interburst_f_doublets_leak = zeros(ncells)\n",
    "\n",
    "# Loop over all neurons in the set\n",
    "@showprogress 1 \"Computing first part...\" for i = 1 : ncells\n",
    "  # Extracting the maximal ion channel conductances\n",
    "  (gNa, gCaT, gCaS, gA, gKCa, gKd, gH, gleak) = g_all_doublets_leak[i,:]\n",
    "\n",
    "  # Input current definition\n",
    "  Iapp = 0.\n",
    "\n",
    "  # Parameter vector for simulations\n",
    "  p = [Iapp, gNa, gCaT, gCaS, gA, gKCa, gKd, gH, gleak, C]\n",
    "\n",
    "  # Initial conditions\n",
    "  V0  = -70.\n",
    "  Ca0 = 0.5\n",
    "  x0  = [V0, mNa_inf(V0), hNa_inf(V0), mCaT_inf(V0), hCaT_inf(V0), mCaS_inf(V0), \n",
    "        hCaS_inf(V0), mA_inf(V0), hA_inf(V0), mKCa_inf(V0, Ca0), mKd_inf(V0), mH_inf(V0), Ca0]\n",
    "    \n",
    "  # Simulation\n",
    "  prob = ODEProblem(STG_ODE, x0, tspan, p)\n",
    "  sol = solve(prob, saveat=0.1, verbose=false)\n",
    "\n",
    "  # Removing transient part\n",
    "  V_t = sol[1, :][5001 : end]\n",
    "  t = sol.t[5001 : end]\n",
    "    \n",
    "  # Computing the burstiness and burst characteristics of the firing pattern\n",
    "  (burstiness_doublets_leak[i], nb_spikes_doublets_leak[i], intraburst_f_doublets_leak[i], \n",
    "        interburst_f_doublets_leak[i]) = extract_burstiness(V_t, t)\n",
    "end\n",
    "\n",
    "# Removing unsuccessful simulations (only fews)\n",
    "burstiness_doublets_leak_plot = deepcopy(burstiness_doublets_leak)\n",
    "burstiness_doublets_leak = burstiness_doublets_leak[.!isnan.(burstiness_doublets_leak)]\n",
    "nb_spikes_doublets_leak = nb_spikes_doublets_leak[.!isnan.(nb_spikes_doublets_leak)]\n",
    "intraburst_f_doublets_leak = intraburst_f_doublets_leak[.!isnan.(intraburst_f_doublets_leak)]\n",
    "interburst_f_doublets_leak = interburst_f_doublets_leak[.!isnan.(interburst_f_doublets_leak)]\n",
    "\n",
    "# Initializing variables\n",
    "burstiness_bursting_leak = zeros(ncells)\n",
    "nb_spikes_bursting_leak = zeros(ncells)\n",
    "intraburst_f_bursting_leak = zeros(ncells)\n",
    "interburst_f_bursting_leak = zeros(ncells)\n",
    "\n",
    "# Loop over all neurons in the set\n",
    "@showprogress 1 \"Computing second part...\" for i = 1 : ncells\n",
    "  # Extracting the maximal ion channel conductances\n",
    "  (gNa, gCaT, gCaS, gA, gKCa, gKd, gH, gleak) = g_all_bursting_leak[i,:]\n",
    "\n",
    "  # Input current definition\n",
    "  Iapp = 0.\n",
    "\n",
    "  # Parameter vector for simulations\n",
    "  p = [Iapp, gNa, gCaT, gCaS, gA, gKCa, gKd, gH, gleak, C]\n",
    "\n",
    "  # Initial conditions\n",
    "  V0  = -70.\n",
    "  Ca0 = 0.5\n",
    "  x0  = [V0, mNa_inf(V0), hNa_inf(V0), mCaT_inf(V0), hCaT_inf(V0), mCaS_inf(V0), \n",
    "        hCaS_inf(V0), mA_inf(V0), hA_inf(V0), mKCa_inf(V0, Ca0), mKd_inf(V0), mH_inf(V0), Ca0]\n",
    "    \n",
    "  # Simulation\n",
    "  prob = ODEProblem(STG_ODE, x0, tspan, p)\n",
    "  sol = solve(prob, saveat=0.1, verbose=false)\n",
    "\n",
    "  # Removing transient part\n",
    "  V_t = sol[1, :][5001 : end]\n",
    "  t = sol.t[5001 : end]\n",
    "    \n",
    "  # Computing the burstiness and burst characteristics of the firing pattern\n",
    "  (burstiness_bursting_leak[i], nb_spikes_bursting_leak[i], intraburst_f_bursting_leak[i], \n",
    "        interburst_f_bursting_leak[i]) = extract_burstiness(V_t, t)\n",
    "end\n",
    "\n",
    "# Removing unsuccessful simulations (only fews)\n",
    "burstiness_bursting_leak = burstiness_bursting_leak[.!isnan.(burstiness_bursting_leak)]\n",
    "nb_spikes_bursting_leak = nb_spikes_bursting_leak[.!isnan.(nb_spikes_bursting_leak)]\n",
    "intraburst_f_bursting_leak = intraburst_f_bursting_leak[.!isnan.(intraburst_f_bursting_leak)]\n",
    "interburst_f_bursting_leak = interburst_f_bursting_leak[.!isnan.(interburst_f_bursting_leak)];"
   ]
  },
  {
   "cell_type": "code",
   "execution_count": 13,
   "id": "57b3ef87",
   "metadata": {},
   "outputs": [],
   "source": [
    "writedlm(\"./data/burstiness_doublets_leak_plot.dat\", burstiness_doublets_leak_plot)\n",
    "writedlm(\"./data/burstiness_doublets_leak.dat\", burstiness_doublets_leak)\n",
    "\n",
    "writedlm(\"./data/burstiness_bursting_leak.dat\", burstiness_bursting_leak);"
   ]
  },
  {
   "cell_type": "markdown",
   "id": "8539c241",
   "metadata": {},
   "source": [
    "# **Computing neurons along neuromodulation paths (Figure 5)**"
   ]
  },
  {
   "cell_type": "code",
   "execution_count": 16,
   "id": "a7377efa",
   "metadata": {},
   "outputs": [
    {
     "name": "stderr",
     "output_type": "stream",
     "text": [
      "\u001b[32mComputing... 100%|███████████████████████████████████████| Time: 1:55:02\u001b[39m\n"
     ]
    }
   ],
   "source": [
    "# Fixing random seed\n",
    "Random.seed!(544)\n",
    "\n",
    "# Initializing some variables\n",
    "gsths = 5. : -0.02 : -9.\n",
    "n = 40\n",
    "gCaSs = zeros(length(gsths), n)\n",
    "gAs = zeros(length(gsths), n)\n",
    "burstiness = zeros(length(gsths), n)\n",
    "\n",
    "# Input current definition\n",
    "Iapp = 0.\n",
    "\n",
    "# Initial firing pattern\n",
    "(g_all_init, ICs_th_init) = degeneracy_fixDICs_neuromod(n, gsths[1], guth, Vth)\n",
    "\n",
    "# Looping over all neuromodulated states\n",
    "@showprogress 1 \"Computing...\" for i = 1 : length(gsths)\n",
    "    # Neuromodulating the initial set\n",
    "    (g_all, ICs_th) = neuromodCaSA(n, g_all_init, ICs_th_init, gsths[i], guth)\n",
    "\n",
    "    gCaSs[i, :] = g_all[:, 3]\n",
    "    gAs[i, :] = g_all[:, 4]\n",
    "    \n",
    "    # Looping over the set to compute the burstiness\n",
    "    for j = 1 : n\n",
    "        # Extracting the maximal ion channel conductances\n",
    "        (gNa, gCaT, gCaS, gA, gKCa, gKd, gH, gleak) = g_all[j, :]\n",
    "\n",
    "        # Parameter vector for simulations\n",
    "        p = [Iapp, gNa, gCaT, gCaS, gA, gKCa, gKd, gH, gleak, C]\n",
    "\n",
    "        # Initial conditions\n",
    "        V0  = -70.\n",
    "        Ca0 = 0.5\n",
    "        x0  = [V0, mNa_inf(V0), hNa_inf(V0), mCaT_inf(V0), hCaT_inf(V0), mCaS_inf(V0), \n",
    "              hCaS_inf(V0), mA_inf(V0), hA_inf(V0), mKCa_inf(V0, Ca0), mKd_inf(V0), mH_inf(V0), Ca0]\n",
    "\n",
    "        # Simulation\n",
    "        prob = ODEProblem(STG_ODE, x0, tspan, p)\n",
    "        sol = solve(prob, saveat=0.1, verbose=false)\n",
    "\n",
    "        # Removing transient part\n",
    "        V_t = sol[1, :][5001 : end]\n",
    "        t = sol.t[5001 : end]\n",
    "\n",
    "        # Computing the burstiness and burst characteristics of the firing pattern\n",
    "        if t[end] != Tfinal\n",
    "            (burstiness[i, j], _, _, _) = (0, NaN, NaN, NaN)\n",
    "        else\n",
    "            (burstiness[i, j], _, _, _) = extract_burstiness(V_t, t)\n",
    "        end\n",
    "\n",
    "        # If spiking\n",
    "        if isnan(burstiness[i, j])\n",
    "            burstiness[i, j] = 0.\n",
    "        end\n",
    "    end\n",
    "end"
   ]
  },
  {
   "cell_type": "code",
   "execution_count": 17,
   "id": "b2dce6f7",
   "metadata": {},
   "outputs": [],
   "source": [
    "writedlm(\"./data/gCaSs_paths.dat\", gCaSs)\n",
    "\n",
    "writedlm(\"./data/gAs_paths.dat\", gAs)\n",
    "\n",
    "writedlm(\"./data/burstiness_paths.dat\", burstiness)\n",
    "\n",
    "writedlm(\"./data/g_all_init_paths.dat\", g_all_init);"
   ]
  },
  {
   "cell_type": "markdown",
   "id": "0ad14265",
   "metadata": {},
   "source": [
    "# **Computing high frequency bursting neurons using homogeneous scaling (Figure supp 1)**"
   ]
  },
  {
   "cell_type": "code",
   "execution_count": 10,
   "id": "576b4a8e",
   "metadata": {},
   "outputs": [
    {
     "name": "stderr",
     "output_type": "stream",
     "text": [
      "WARNING: redefinition of constant ncells. This may fail, cause incorrect answers, or produce other errors.\n"
     ]
    }
   ],
   "source": [
    "# Definition of the number of cells in the random set\n",
    "const ncells = 200\n",
    "\n",
    "g_all_MC = readdlm(\"./data/g_all_MC.dat\");"
   ]
  },
  {
   "cell_type": "code",
   "execution_count": 11,
   "id": "4a8b34fa",
   "metadata": {},
   "outputs": [],
   "source": [
    "# Number of ion channels in the STG model\n",
    "nb_channels = 8\n",
    "\n",
    "# Means on spiking point cloud\n",
    "mean_MC = zeros(1, nb_channels)\n",
    "mean!(mean_MC, g_all_MC)\n",
    "\n",
    "# Defining scaling factors and limits for the plots\n",
    "s1 = 1.3\n",
    "s2 = 1.3\n",
    "Na_max = 8000\n",
    "CaT_max = 12\n",
    "CaS_max = 50\n",
    "A_max = 600\n",
    "KCa_max = 250\n",
    "Kd_max = 350\n",
    "H_max = 0.7\n",
    "leak_max = 0.02\n",
    "\n",
    "# Defining scaling factors for homogeneous scaling\n",
    "gNa_scaling = mean_MC[1] / mean_MC[8]\n",
    "gCaT_scaling = mean_MC[2] / mean_MC[8]\n",
    "gCaS_scaling = mean_MC[3] / mean_MC[8]\n",
    "gA_scaling = mean_MC[4] / mean_MC[8]\n",
    "gKCa_scaling = mean_MC[5] / mean_MC[8]\n",
    "gKd_scaling = mean_MC[6] / mean_MC[8]\n",
    "gH_scaling = mean_MC[7] / mean_MC[8];"
   ]
  },
  {
   "cell_type": "code",
   "execution_count": 12,
   "id": "83898eae",
   "metadata": {},
   "outputs": [],
   "source": [
    "# Fixing random seed\n",
    "Random.seed!(544)\n",
    "\n",
    "# Initializing a flag\n",
    "flag_start = true\n",
    "\n",
    "for i = 1 : ncells\n",
    "    # Generating random conductances\n",
    "    gleak = 0.006 + 0.009 * rand(1, 1)[1]\n",
    "    gCaT = gleak * gCaT_scaling\n",
    "    gCaS = gleak * gCaS_scaling\n",
    "    gKd = gleak * gKd_scaling\n",
    "    gKCa = gleak * gKCa_scaling\n",
    "    gNa = gleak * gNa_scaling\n",
    "    gA = gleak * gA_scaling\n",
    "    gH = gleak * gH_scaling\n",
    "    \n",
    "    if flag_start\n",
    "        # Creating the conductance matrix\n",
    "        global g_all_MC_leak = [gNa, gCaT, gCaS, gA, gKCa, gKd, gH, gleak]\n",
    "        flag_start = false\n",
    "    else\n",
    "        # Adding a line to the conductance matrix\n",
    "        g_all_MC_leak = hcat(g_all_MC_leak, [gNa, gCaT, gCaS, gA, gKCa, gKd, gH, gleak])\n",
    "    end\n",
    "end\n",
    "\n",
    "# Transposing the conductance matrix\n",
    "if @isdefined g_all_MC_leak\n",
    "    g_all_MC_leak = g_all_MC_leak'\n",
    "end;"
   ]
  },
  {
   "cell_type": "code",
   "execution_count": 13,
   "id": "fb7cad09",
   "metadata": {},
   "outputs": [
    {
     "name": "stderr",
     "output_type": "stream",
     "text": [
      "\u001b[32mComputing... 100%|███████████████████████████████████████| Time: 1:50:56\u001b[39m\n"
     ]
    }
   ],
   "source": [
    "# Input current definition\n",
    "Iapp = 0. : -0.05 : -8.\n",
    "\n",
    "# Initializing some variables\n",
    "f_leak = zeros(length(Iapp), ncells)\n",
    "\n",
    "@showprogress 1 \"Computing...\" for (k, Iapp_i) in enumerate(Iapp)\n",
    "    # Looping over all neurons\n",
    "    for i = 1 : ncells\n",
    "        # Retrieving maximal conductances from what had been computed\n",
    "        (gNa, gCaT, gCaS, gA, gKCa, gKd, gH, gleak) = g_all_MC_leak[i, :]\n",
    "\n",
    "        # Parameter vector for simulations\n",
    "        p = [Iapp_i, gNa, gCaT, gCaS, gA, gKCa, gKd, gH, gleak, C]\n",
    "\n",
    "        # Initial conditions\n",
    "        V0  = -70.\n",
    "        Ca0 = 0.5\n",
    "        x0  = [V0, mNa_inf(V0), hNa_inf(V0), mCaT_inf(V0), hCaT_inf(V0), mCaS_inf(V0), \n",
    "            hCaS_inf(V0), mA_inf(V0), hA_inf(V0), mKCa_inf(V0, Ca0), mKd_inf(V0), mH_inf(V0), Ca0]\n",
    "\n",
    "        # Simulation\n",
    "        prob = ODEProblem(STG_ODE, x0, tspan, p) # Describing the problem\n",
    "        sol = solve(prob, saveat=0.1) # Solving the problem\n",
    "\n",
    "        # Saving results\n",
    "        VV = sol[1, 30001:end]\n",
    "        tt = sol.t[30001:end]\n",
    "\n",
    "        # Computing spiking frequency\n",
    "        if tt[end] != Tfinal\n",
    "            f_leak[k, i] = 0.\n",
    "        else\n",
    "            f_leak[k, i] = extract_frequency(VV, tt)\n",
    "            if isnan(f_leak[k, i])\n",
    "                f_leak[k, i] = 0.\n",
    "            end\n",
    "        end\n",
    "    end\n",
    "end"
   ]
  },
  {
   "cell_type": "code",
   "execution_count": 14,
   "id": "7131e12c",
   "metadata": {},
   "outputs": [],
   "source": [
    "# Initializing some variables\n",
    "rheobase = zeros(ncells)\n",
    "\n",
    "# Computing the rheobase for each neuon\n",
    "for i = 1 : ncells\n",
    "    f_leak_i = f_leak[:, i]\n",
    "    rheobase[i] = maximum(Iapp[findall(f_leak[:, i] .<= 0.)])\n",
    "end"
   ]
  },
  {
   "cell_type": "code",
   "execution_count": 15,
   "id": "89932d67",
   "metadata": {},
   "outputs": [],
   "source": [
    "writedlm(\"./data/g_all_MC_leak.dat\", g_all_MC_leak)\n",
    "\n",
    "writedlm(\"./data/f_leak.dat\", f_leak)\n",
    "\n",
    "writedlm(\"./data/Iapp.dat\", Iapp)\n",
    "\n",
    "writedlm(\"./data/rheobase.dat\", rheobase);"
   ]
  }
 ],
 "metadata": {
  "@webio": {
   "lastCommId": null,
   "lastKernelId": null
  },
  "kernelspec": {
   "display_name": "Julia 1.7.2",
   "language": "julia",
   "name": "julia-1.7"
  },
  "language_info": {
   "file_extension": ".jl",
   "mimetype": "application/julia",
   "name": "julia",
   "version": "1.7.2"
  }
 },
 "nbformat": 4,
 "nbformat_minor": 5
}
