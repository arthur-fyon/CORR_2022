{
 "cells": [
  {
   "cell_type": "markdown",
   "id": "54245f1e",
   "metadata": {},
   "source": [
    "### *This file allows to generate all data necessary for all figures*"
   ]
  },
  {
   "cell_type": "markdown",
   "id": "27d086ba",
   "metadata": {},
   "source": [
    "# **Useful packages and functions**"
   ]
  },
  {
   "cell_type": "code",
   "execution_count": 5,
   "id": "bcdd32d9",
   "metadata": {},
   "outputs": [],
   "source": [
    "using DifferentialEquations, Plots, Polynomials, LaTeXStrings, ColorSchemes, DelimitedFiles\n",
    "using Statistics, StatsPlots, Random, ProgressMeter, Printf, LinearAlgebra\n",
    "include(\"FYON_2022_DA_kinetics.jl\") # Loading of DA kinetics of gating variables\n",
    "include(\"FYON_2022_DA_models.jl\") # Loading of DA model\n",
    "include(\"FYON_2022_DA_utils.jl\") # Loading of some utils functions\n",
    "include(\"FYON_2022_DA_gs_derivatives.jl\") # Loading of X_inf derivatives\n",
    "include(\"FYON_2022_DA_DIC.jl\") # Loading of the DIC and compensation algorithm\n",
    "include(\"FYON_2022_DA_neuromodulation.jl\"); # Loading of the neuromodulation cells functions"
   ]
  },
  {
   "cell_type": "markdown",
   "id": "7b90e6d0",
   "metadata": {},
   "source": [
    "# **Global variables**"
   ]
  },
  {
   "cell_type": "code",
   "execution_count": 6,
   "id": "e0c8d5cc",
   "metadata": {},
   "outputs": [],
   "source": [
    "# Definition of simulation time (in ms)\n",
    "const Tfinal = 10000\n",
    "const tspan  = (0.0, Tfinal)\n",
    "\n",
    "# Definition of reversal potential values (in mV), [Mg] and membrane capacitance\n",
    "const VNa   = 60. # Sodium reversal potential\n",
    "const VK    = -85. # Potassium reversal potential\n",
    "const VCa   = 60. # Calcium reversal potential\n",
    "const VNMDA = 0. # NMDA reversal potential\n",
    "const Vleak = -50. # Reversal potential of leak channels\n",
    "const Mg    = 1.4 # Mg concentration\n",
    "const C     = 1. # Membrane capacitance\n",
    "\n",
    "# Definition of voltage range for the DICs\n",
    "const Vmin = -60 \n",
    "const Vmax = 0\n",
    "const V    = range(Vmin, stop=Vmax, step=0.01)\n",
    "\n",
    "# Definition of the number of cells in the random set\n",
    "const ncells = 200;"
   ]
  },
  {
   "cell_type": "markdown",
   "id": "d168bcc3",
   "metadata": {},
   "source": [
    "# **Generating low frequency tonic spiking neurons using Monte Carlo (Figure 1)**"
   ]
  },
  {
   "cell_type": "code",
   "execution_count": null,
   "id": "9520fbc1",
   "metadata": {},
   "outputs": [],
   "source": [
    "# Initializing some variables\n",
    "Na_max = 60\n",
    "Kd_max = 20\n",
    "CaL_max = 0.1\n",
    "CaN_max = 0.3\n",
    "ERG_max = 0.25\n",
    "leak_max = 0.02\n",
    "N = 3e5\n",
    "VV_maxmax = 58.5\n",
    "VV_maxmin = 54\n",
    "VV_minmin = -80.5\n",
    "VV_minmax = -77.5\n",
    "f_max = 1.95\n",
    "f_min = 1.75;"
   ]
  },
  {
   "cell_type": "code",
   "execution_count": null,
   "id": "bd8cc464",
   "metadata": {},
   "outputs": [],
   "source": [
    "# Fixing random seed\n",
    "Random.seed!(226)\n",
    "\n",
    "# Initializing a flag\n",
    "flag_start = true\n",
    "\n",
    "@showprogress 1 \"Computing...\" for i = 1 : N\n",
    "    # Generating random conductances\n",
    "    gleak = 0.005 + 0.015 * rand(1, 1)[1]\n",
    "    gCaL = 0.95 * CaL_max * rand(1, 1)[1]#0.02 + (CaL_max-0.025) * rand(1, 1)[1]\n",
    "    gKd = 0.95 * Kd_max * rand(1, 1)[1]#0.95 * (Kd_max-5) * rand(1, 1)[1]\n",
    "    gNMDA = gleak * (0.12) / 0.013\n",
    "    gNa = 0.95 * Na_max * rand(1, 1)[1]\n",
    "    gCaN = 0.95 * CaN_max * rand(1, 1)[1]\n",
    "    gERG = 0.95 * ERG_max * rand(1, 1)[1]\n",
    "    \n",
    "    # Parameter vector for simulations\n",
    "    p = [0., gNa, gKd, gCaL, gCaN, gERG, gNMDA, gleak, C]\n",
    "\n",
    "    # Initial conditions\n",
    "    V0 = -90.\n",
    "    x0 = [V0, m_inf(V0), h_inf(V0), n_inf(V0), mCaL_inf(V0), mCaN_inf(V0), 0., 0.]\n",
    "\n",
    "    # Simulation\n",
    "    prob = ODEProblem(DA_ODE, x0, tspan, p) # Describing the problem\n",
    "    sol = solve(prob, saveat=0.1, verbose=false, maxiters=10) # Solving the problem\n",
    "\n",
    "    # Saving results\n",
    "    VV = sol[1, 20001:end]\n",
    "    tt = sol.t[20001:end]\n",
    "\n",
    "    # Computing spiking frequency\n",
    "    if length(tt) < 1\n",
    "        f = 0.\n",
    "    elseif tt[end] != Tfinal\n",
    "        f = 0.\n",
    "    else\n",
    "        f = extract_frequency(VV, tt)\n",
    "        if isnan(f)\n",
    "            f = 0.\n",
    "        end\n",
    "    end\n",
    "    \n",
    "    # Saving if spiking frequency is in the right order of magnitude\n",
    "    if (f <= f_max && f >= f_min && maximum(VV) <= VV_maxmax && maximum(VV) >= VV_maxmin &&\n",
    "        minimum(VV) <= VV_minmax && minimum(VV) >= VV_minmin)\n",
    "        if flag_start\n",
    "            # Creating the conductance matrix\n",
    "            global g_all_MC = [gNa, gKd, gCaL, gCaN, gERG, gNMDA, gleak]\n",
    "            flag_start = false\n",
    "        else\n",
    "            # Adding a line to the conductance matrix\n",
    "            g_all_MC = hcat(g_all_MC, [gNa, gKd, gCaL, gCaN, gERG, gNMDA, gleak])\n",
    "\n",
    "            # If we reach ncells neurons, break the loop\n",
    "            if size(g_all_MC)[2] >= ncells\n",
    "                break\n",
    "            end\n",
    "        end\n",
    "    end\n",
    "end\n",
    "\n",
    "# Transposing the conductance matrix\n",
    "if @isdefined g_all_MC\n",
    "    g_all_MC = g_all_MC'\n",
    "end;"
   ]
  },
  {
   "cell_type": "code",
   "execution_count": null,
   "id": "293bd48a",
   "metadata": {},
   "outputs": [],
   "source": [
    "writedlm(\"./data/g_all_MC.dat\", g_all_MC);"
   ]
  },
  {
   "cell_type": "markdown",
   "id": "277bc355",
   "metadata": {},
   "source": [
    "# **Generating low frequency tonic spiking neurons using DICs method (Figure 4A), separated and not**"
   ]
  },
  {
   "cell_type": "code",
   "execution_count": 7,
   "id": "c3de658a",
   "metadata": {},
   "outputs": [
    {
     "name": "stderr",
     "output_type": "stream",
     "text": [
      "WARNING: redefinition of constant ncells. This may fail, cause incorrect answers, or produce other errors.\n"
     ]
    }
   ],
   "source": [
    "# Definition of the number of cells in the random set\n",
    "const ncells = 500;"
   ]
  },
  {
   "cell_type": "code",
   "execution_count": 9,
   "id": "31997394",
   "metadata": {},
   "outputs": [],
   "source": [
    "# Fixing random seed\n",
    "Random.seed!(226);\n",
    "\n",
    "# Initial firing pattern\n",
    "guth = 5.\n",
    "Vth = -55.5\n",
    "(g_all_init, ICs_th_init) = degeneracy_fixDICs_neuromod(ncells, 0.5, guth, Vth)\n",
    "# create a spiking set with max variability in gCaS and gA\n",
    "\n",
    "# Neuromodulating the initial set to the same value of gs_th (convention in the codes)\n",
    "(g_all_spiking, ICs_th_spiking) = neuromodCaLCaN(ncells, g_all_init, ICs_th_init, 0.5, guth);"
   ]
  },
  {
   "cell_type": "code",
   "execution_count": 10,
   "id": "381c5bd9",
   "metadata": {},
   "outputs": [],
   "source": [
    "writedlm(\"./data/g_all_spiking.dat\", g_all_spiking);"
   ]
  },
  {
   "cell_type": "code",
   "execution_count": 11,
   "id": "76fc0563",
   "metadata": {},
   "outputs": [],
   "source": [
    "# Fixing random seed\n",
    "Random.seed!(226)\n",
    "\n",
    "# Initial firing pattern\n",
    "(g_all_init_DIC, ICs_th_init_DIC) = degeneracy_fixDICs_neuromodDIC(ncells, 0.5, guth, Vth)\n",
    "# create a spiking set with max variability in gCaS and gA\n",
    "\n",
    "# Neuromodulating the initial set to obtain spiking, triplets and bursting\n",
    "(g_all_spiking_DIC, ICs_th_spiking_DIC) = neuromodCaLCaN(ncells, g_all_init_DIC,\n",
    "                                                           ICs_th_init_DIC, 0.5, guth);"
   ]
  },
  {
   "cell_type": "code",
   "execution_count": 58,
   "id": "4d69de43",
   "metadata": {},
   "outputs": [],
   "source": [
    "writedlm(\"./data/g_all_spiking_DIC.dat\", g_all_spiking_DIC);"
   ]
  },
  {
   "cell_type": "code",
   "execution_count": 13,
   "id": "ea0b8b30",
   "metadata": {},
   "outputs": [],
   "source": [
    "# Fixing random seed\n",
    "Random.seed!(226)\n",
    "\n",
    "# Initial firing pattern\n",
    "(g_all_init_leak, ICs_th_init_leak) = degeneracy_fixDICs_neuromodleak(ncells, 0.5, guth, Vth)\n",
    "# create a spiking set with max variability in gCaS and gA\n",
    "\n",
    "# Neuromodulating the initial set to obtain spiking, triplets and bursting\n",
    "(g_all_spiking_leak, ICs_th_spiking_leak) = neuromodCaLCaN(ncells, g_all_init_leak,\n",
    "                                                           ICs_th_init_leak, 0.5, guth);"
   ]
  },
  {
   "cell_type": "code",
   "execution_count": 59,
   "id": "915c1dc3",
   "metadata": {},
   "outputs": [],
   "source": [
    "writedlm(\"./data/g_all_spiking_leak.dat\", g_all_spiking_leak);"
   ]
  },
  {
   "cell_type": "markdown",
   "id": "ef76de7e",
   "metadata": {},
   "source": [
    "# **Generating many low frequency tonic spiking neurons using DICs method (Figure 4B), not separated**"
   ]
  },
  {
   "cell_type": "code",
   "execution_count": 17,
   "id": "c6bc636f",
   "metadata": {},
   "outputs": [],
   "source": [
    "# Definition of the number of cells in the random set\n",
    "const ncells = 2000;"
   ]
  },
  {
   "cell_type": "code",
   "execution_count": 18,
   "id": "3cc6b3c2",
   "metadata": {},
   "outputs": [],
   "source": [
    "# Fixing random seed\n",
    "Random.seed!(226);\n",
    "\n",
    "# Initial firing pattern\n",
    "guth = 5.\n",
    "Vth = -55.5\n",
    "(g_all_init_many, ICs_th_init_many) = degeneracy_fixDICs_neuromod(ncells, 0.5, guth, Vth)\n",
    "# create a spiking set with max variability in gCaS and gA\n",
    "\n",
    "# Neuromodulating the initial set to the same value of gs_th (convention in the codes)\n",
    "(g_all_spiking_many, ICs_th_spiking_many) = neuromodCaLCaN(ncells, g_all_init_many, \n",
    "                                                           ICs_th_init_many, 0.5, guth);"
   ]
  },
  {
   "cell_type": "code",
   "execution_count": 19,
   "id": "e0e53445",
   "metadata": {},
   "outputs": [],
   "source": [
    "writedlm(\"./data/g_all_spiking_many.dat\", g_all_spiking_many);"
   ]
  },
  {
   "cell_type": "markdown",
   "id": "576f4177",
   "metadata": {},
   "source": [
    "# **Generating neuromodulated neurons using DICs method (Figure 5), separated and not**"
   ]
  },
  {
   "cell_type": "code",
   "execution_count": 23,
   "id": "569fe577",
   "metadata": {},
   "outputs": [],
   "source": [
    "# Definition of the number of cells in the random set\n",
    "const ncells = 500;"
   ]
  },
  {
   "cell_type": "code",
   "execution_count": 24,
   "id": "c89d858b",
   "metadata": {},
   "outputs": [],
   "source": [
    "(g_all_triplets, ICs_th_triplets) = neuromodCaLCaN(ncells, g_all_init, ICs_th_init, -1.5, guth)\n",
    "\n",
    "(g_all_bursting, ICs_th_bursting) = neuromodCaLCaN(ncells, g_all_init, ICs_th_init, -4., guth);"
   ]
  },
  {
   "cell_type": "code",
   "execution_count": 25,
   "id": "99ec314d",
   "metadata": {},
   "outputs": [],
   "source": [
    "writedlm(\"./data/g_all_triplets.dat\", g_all_triplets)\n",
    "\n",
    "writedlm(\"./data/g_all_bursting.dat\", g_all_bursting);"
   ]
  },
  {
   "cell_type": "code",
   "execution_count": 28,
   "id": "09b9087d",
   "metadata": {},
   "outputs": [],
   "source": [
    "(g_all_triplets_DIC, ICs_th_triplets_DIC) = neuromodCaLCaN(ncells, g_all_init_DIC,\n",
    "                                                           ICs_th_init_DIC, -1.5, guth)\n",
    "\n",
    "(g_all_bursting_DIC, ICs_th_bursting_DIC) = neuromodCaLCaN(ncells, g_all_init_DIC, \n",
    "                                                           ICs_th_init_DIC, -4., guth);"
   ]
  },
  {
   "cell_type": "code",
   "execution_count": 29,
   "id": "ea401838",
   "metadata": {},
   "outputs": [],
   "source": [
    "writedlm(\"./data/g_all_triplets_DIC.dat\", g_all_triplets_DIC)\n",
    "\n",
    "writedlm(\"./data/g_all_bursting_DIC.dat\", g_all_bursting_DIC);"
   ]
  },
  {
   "cell_type": "code",
   "execution_count": 30,
   "id": "6f30f845",
   "metadata": {},
   "outputs": [],
   "source": [
    "(g_all_triplets_leak, ICs_th_triplets_leak) = neuromodCaLCaN(ncells, g_all_init_leak,\n",
    "                                                           ICs_th_init_leak, -1.5, guth)\n",
    "\n",
    "(g_all_bursting_leak, ICs_th_bursting_leak) = neuromodCaLCaN(ncells, g_all_init_leak, \n",
    "                                                           ICs_th_init_leak, -4., guth);"
   ]
  },
  {
   "cell_type": "code",
   "execution_count": 31,
   "id": "f5357673",
   "metadata": {},
   "outputs": [],
   "source": [
    "writedlm(\"./data/g_all_triplets_leak.dat\", g_all_triplets_leak)\n",
    "\n",
    "writedlm(\"./data/g_all_bursting_leak.dat\", g_all_bursting_leak);"
   ]
  },
  {
   "cell_type": "markdown",
   "id": "cc0037af",
   "metadata": {},
   "source": [
    "# **Computing burstiness of neuromodulated neurons (Figure 5)**"
   ]
  },
  {
   "cell_type": "code",
   "execution_count": 32,
   "id": "e054dec6",
   "metadata": {},
   "outputs": [
    {
     "name": "stderr",
     "output_type": "stream",
     "text": [
      "\u001b[32mComputing first part...100%|████████████████████████████| Time: 0:01:48\u001b[39m\n",
      "\u001b[32mComputing second part...100%|███████████████████████████| Time: 0:01:27\u001b[39m\n"
     ]
    }
   ],
   "source": [
    "## Verifying robustness of the neuromodulated bursting sets\n",
    "# Initializing variables\n",
    "burstiness_triplets = zeros(ncells)\n",
    "nb_spikes_triplets = zeros(ncells)\n",
    "intraburst_f_triplets = zeros(ncells)\n",
    "interburst_f_triplets = zeros(ncells)\n",
    "\n",
    "# Loop over all neurons in the set\n",
    "@showprogress 1 \"Computing first part...\" for i = 1 : ncells\n",
    "  # Extracting the maximal ion channel conductances\n",
    "  (gNa, gKd, gCaL, gCaN, gERG, gNMDA, gleak) = g_all_triplets[i, :]\n",
    "\n",
    "  # Input current definition\n",
    "  Iapp = 0.\n",
    "\n",
    "  # Parameter vector for simulations\n",
    "  p = [Iapp, gNa, gKd, gCaL, gCaN, gERG, gNMDA, gleak, C]\n",
    "\n",
    "  # Initial conditions\n",
    "  V0 = -90.\n",
    "  x0 = [V0, m_inf(V0), h_inf(V0), n_inf(V0), mCaL_inf(V0), mCaN_inf(V0), 0., 0.]\n",
    "    \n",
    "  # Simulation\n",
    "  prob = ODEProblem(DA_ODE, x0, tspan, p)\n",
    "  sol = solve(prob, saveat=0.1, verbose=false)\n",
    "\n",
    "  # Removing transient part\n",
    "  V_t = sol[1, :][5001 : end]\n",
    "  t = sol.t[5001 : end]\n",
    "    \n",
    "  # Computing the burstiness and burst characteristics of the firing pattern\n",
    "  if t[end] != 10000.0\n",
    "    (burstiness_triplets[i], nb_spikes_triplets[i], intraburst_f_triplets[i], \n",
    "        interburst_f_triplets[i]) = (NaN, NaN, NaN, NaN)\n",
    "  else\n",
    "    (burstiness_triplets[i], nb_spikes_triplets[i], intraburst_f_triplets[i], \n",
    "        interburst_f_triplets[i]) = extract_burstiness(V_t, t)\n",
    "  end\n",
    "end\n",
    "\n",
    "# Removing unsuccessful simulations (only fews)\n",
    "burstiness_triplets = burstiness_triplets[.!isnan.(burstiness_triplets)]\n",
    "nb_spikes_triplets = nb_spikes_triplets[.!isnan.(nb_spikes_triplets)]\n",
    "intraburst_f_triplets = intraburst_f_triplets[.!isnan.(intraburst_f_triplets)]\n",
    "interburst_f_triplets = interburst_f_triplets[.!isnan.(interburst_f_triplets)]\n",
    "\n",
    "# Initializing variables\n",
    "burstiness_bursting = zeros(ncells)\n",
    "nb_spikes_bursting = zeros(ncells)\n",
    "intraburst_f_bursting = zeros(ncells)\n",
    "interburst_f_bursting = zeros(ncells)\n",
    "\n",
    "# Loop over all neurons in the set\n",
    "@showprogress 1 \"Computing second part...\" for i = 1 : ncells\n",
    "  # Extracting the maximal ion channel conductances\n",
    "  (gNa, gKd, gCaL, gCaN, gERG, gNMDA, gleak) = g_all_bursting[i, :]\n",
    "\n",
    "  # Input current definition\n",
    "  Iapp = 0.\n",
    "\n",
    "  # Parameter vector for simulations\n",
    "  p = [Iapp, gNa, gKd, gCaL, gCaN, gERG, gNMDA, gleak, C]\n",
    "\n",
    "  # Initial conditions\n",
    "  V0 = -90.\n",
    "  x0 = [V0, m_inf(V0), h_inf(V0), n_inf(V0), mCaL_inf(V0), mCaN_inf(V0), 0., 0.]\n",
    "    \n",
    "  # Simulation\n",
    "  prob = ODEProblem(DA_ODE, x0, tspan, p)\n",
    "  sol = solve(prob, saveat=0.1, verbose=false)\n",
    "\n",
    "  # Removing transient part\n",
    "  V_t = sol[1, :][5001 : end]\n",
    "  t = sol.t[5001 : end]\n",
    "    \n",
    "  # Computing the burstiness and burst characteristics of the firing pattern\n",
    "  if t[end] != 10000.0\n",
    "    (burstiness_bursting[i], nb_spikes_bursting[i], intraburst_f_bursting[i], \n",
    "        interburst_f_bursting[i]) = (NaN, NaN, NaN, NaN)\n",
    "  else\n",
    "    (burstiness_bursting[i], nb_spikes_bursting[i], intraburst_f_bursting[i], \n",
    "        interburst_f_bursting[i]) = extract_burstiness(V_t, t)\n",
    "  end\n",
    "end\n",
    "\n",
    "# Removing unsuccessful simulations (only fews)\n",
    "burstiness_bursting = burstiness_bursting[.!isnan.(burstiness_bursting)]\n",
    "nb_spikes_bursting = nb_spikes_bursting[.!isnan.(nb_spikes_bursting)]\n",
    "intraburst_f_bursting = intraburst_f_bursting[.!isnan.(intraburst_f_bursting)]\n",
    "interburst_f_bursting = interburst_f_bursting[.!isnan.(interburst_f_bursting)];"
   ]
  },
  {
   "cell_type": "code",
   "execution_count": 33,
   "id": "544f960d",
   "metadata": {},
   "outputs": [],
   "source": [
    "writedlm(\"./data/burstiness_triplets.dat\", burstiness_triplets)\n",
    "\n",
    "writedlm(\"./data/burstiness_bursting.dat\", burstiness_bursting);"
   ]
  },
  {
   "cell_type": "code",
   "execution_count": 34,
   "id": "26e9a5ce",
   "metadata": {},
   "outputs": [
    {
     "name": "stderr",
     "output_type": "stream",
     "text": [
      "\u001b[32mComputing first part...100%|████████████████████████████| Time: 0:00:58\u001b[39m\n",
      "\u001b[32mComputing second part...100%|███████████████████████████| Time: 0:01:28\u001b[39m\n"
     ]
    }
   ],
   "source": [
    "## Verifying robustness of the neuromodulated bursting sets\n",
    "# Initializing variables\n",
    "burstiness_triplets_DIC = zeros(ncells)\n",
    "nb_spikes_triplets_DIC = zeros(ncells)\n",
    "intraburst_f_triplets_DIC = zeros(ncells)\n",
    "interburst_f_triplets_DIC = zeros(ncells)\n",
    "\n",
    "# Loop over all neurons in the set\n",
    "@showprogress 1 \"Computing first part...\" for i = 1 : ncells\n",
    "  # Extracting the maximal ion channel conductances\n",
    "  (gNa, gKd, gCaL, gCaN, gERG, gNMDA, gleak) = g_all_triplets_DIC[i, :]\n",
    "\n",
    "  # Input current definition\n",
    "  Iapp = 0.\n",
    "\n",
    "  # Parameter vector for simulations\n",
    "  p = [Iapp, gNa, gKd, gCaL, gCaN, gERG, gNMDA, gleak, C]\n",
    "\n",
    "  # Initial conditions\n",
    "  V0 = -90.\n",
    "  x0 = [V0, m_inf(V0), h_inf(V0), n_inf(V0), mCaL_inf(V0), mCaN_inf(V0), 0., 0.]\n",
    "    \n",
    "  # Simulation\n",
    "  prob = ODEProblem(DA_ODE, x0, tspan, p)\n",
    "  sol = solve(prob, saveat=0.1, verbose=false)\n",
    "\n",
    "  # Removing transient part\n",
    "  V_t = sol[1, :][5001 : end]\n",
    "  t = sol.t[5001 : end]\n",
    "    \n",
    "  # Computing the burstiness and burst characteristics of the firing pattern\n",
    "  if t[end] != 10000.0\n",
    "    (burstiness_triplets_DIC[i], nb_spikes_triplets_DIC[i], intraburst_f_triplets_DIC[i], \n",
    "        interburst_f_triplets_DIC[i]) = (NaN, NaN, NaN, NaN)\n",
    "  else\n",
    "    (burstiness_triplets_DIC[i], nb_spikes_triplets_DIC[i], intraburst_f_triplets_DIC[i], \n",
    "        interburst_f_triplets_DIC[i]) = extract_burstiness(V_t, t)\n",
    "  end\n",
    "end\n",
    "\n",
    "# Removing unsuccessful simulations (only fews)\n",
    "burstiness_triplets_DIC = burstiness_triplets_DIC[.!isnan.(burstiness_triplets_DIC)]\n",
    "nb_spikes_triplets_DIC = nb_spikes_triplets_DIC[.!isnan.(nb_spikes_triplets_DIC)]\n",
    "intraburst_f_triplets_DIC = intraburst_f_triplets_DIC[.!isnan.(intraburst_f_triplets_DIC)]\n",
    "interburst_f_triplets_DIC = interburst_f_triplets_DIC[.!isnan.(interburst_f_triplets_DIC)]\n",
    "\n",
    "# Initializing variables\n",
    "burstiness_bursting_DIC = zeros(ncells)\n",
    "nb_spikes_bursting_DIC = zeros(ncells)\n",
    "intraburst_f_bursting_DIC = zeros(ncells)\n",
    "interburst_f_bursting_DIC = zeros(ncells)\n",
    "\n",
    "# Loop over all neurons in the set\n",
    "@showprogress 1 \"Computing second part...\" for i = 1 : ncells\n",
    "  # Extracting the maximal ion channel conductances\n",
    "  (gNa, gKd, gCaL, gCaN, gERG, gNMDA, gleak) = g_all_bursting_DIC[i, :]\n",
    "\n",
    "  # Input current definition\n",
    "  Iapp = 0.\n",
    "\n",
    "  # Parameter vector for simulations\n",
    "  p = [Iapp, gNa, gKd, gCaL, gCaN, gERG, gNMDA, gleak, C]\n",
    "\n",
    "  # Initial conditions\n",
    "  V0 = -90.\n",
    "  x0 = [V0, m_inf(V0), h_inf(V0), n_inf(V0), mCaL_inf(V0), mCaN_inf(V0), 0., 0.]\n",
    "    \n",
    "  # Simulation\n",
    "  prob = ODEProblem(DA_ODE, x0, tspan, p)\n",
    "  sol = solve(prob, saveat=0.1, verbose=false)\n",
    "\n",
    "  # Removing transient part\n",
    "  V_t = sol[1, :][5001 : end]\n",
    "  t = sol.t[5001 : end]\n",
    "    \n",
    "  # Computing the burstiness and burst characteristics of the firing pattern\n",
    "  if t[end] != 10000.0\n",
    "    (burstiness_bursting_DIC[i], nb_spikes_bursting_DIC[i], intraburst_f_bursting_DIC[i], \n",
    "        interburst_f_bursting_DIC[i]) = (NaN, NaN, NaN, NaN)\n",
    "  else\n",
    "    (burstiness_bursting_DIC[i], nb_spikes_bursting_DIC[i], intraburst_f_bursting_DIC[i], \n",
    "        interburst_f_bursting_DIC[i]) = extract_burstiness(V_t, t)\n",
    "  end\n",
    "end\n",
    "\n",
    "# Removing unsuccessful simulations (only fews)\n",
    "burstiness_bursting_DIC = burstiness_bursting_DIC[.!isnan.(burstiness_bursting_DIC)]\n",
    "nb_spikes_bursting_DIC = nb_spikes_bursting_DIC[.!isnan.(nb_spikes_bursting_DIC)]\n",
    "intraburst_f_bursting_DIC = intraburst_f_bursting_DIC[.!isnan.(intraburst_f_bursting_DIC)]\n",
    "interburst_f_bursting_DIC = interburst_f_bursting_DIC[.!isnan.(interburst_f_bursting_DIC)];"
   ]
  },
  {
   "cell_type": "code",
   "execution_count": 35,
   "id": "ccaf0cc5",
   "metadata": {},
   "outputs": [],
   "source": [
    "writedlm(\"./data/burstiness_triplets_DIC.dat\", burstiness_triplets_DIC)\n",
    "\n",
    "writedlm(\"./data/burstiness_bursting_DIC.dat\", burstiness_bursting_DIC);"
   ]
  },
  {
   "cell_type": "code",
   "execution_count": 36,
   "id": "a05ac312",
   "metadata": {},
   "outputs": [
    {
     "name": "stderr",
     "output_type": "stream",
     "text": [
      "\u001b[32mComputing first part...100%|████████████████████████████| Time: 0:00:50\u001b[39m\n",
      "\u001b[32mComputing second part...100%|███████████████████████████| Time: 0:01:03\u001b[39m\n"
     ]
    }
   ],
   "source": [
    "## Verifying robustness of the neuromodulated bursting sets\n",
    "# Initializing variables\n",
    "burstiness_triplets_leak = zeros(ncells)\n",
    "nb_spikes_triplets_leak = zeros(ncells)\n",
    "intraburst_f_triplets_leak = zeros(ncells)\n",
    "interburst_f_triplets_leak = zeros(ncells)\n",
    "\n",
    "# Loop over all neurons in the set\n",
    "@showprogress 1 \"Computing first part...\" for i = 1 : ncells\n",
    "  # Extracting the maximal ion channel conductances\n",
    "  (gNa, gKd, gCaL, gCaN, gERG, gNMDA, gleak) = g_all_triplets_leak[i, :]\n",
    "\n",
    "  # Input current definition\n",
    "  Iapp = 0.\n",
    "\n",
    "  # Parameter vector for simulations\n",
    "  p = [Iapp, gNa, gKd, gCaL, gCaN, gERG, gNMDA, gleak, C]\n",
    "\n",
    "  # Initial conditions\n",
    "  V0 = -90.\n",
    "  x0 = [V0, m_inf(V0), h_inf(V0), n_inf(V0), mCaL_inf(V0), mCaN_inf(V0), 0., 0.]\n",
    "    \n",
    "  # Simulation\n",
    "  prob = ODEProblem(DA_ODE, x0, tspan, p)\n",
    "  sol = solve(prob, saveat=0.1, verbose=false)\n",
    "\n",
    "  # Removing transient part\n",
    "  V_t = sol[1, :][5001 : end]\n",
    "  t = sol.t[5001 : end]\n",
    "    \n",
    "  # Computing the burstiness and burst characteristics of the firing pattern\n",
    "  if t[end] != 10000.0\n",
    "    (burstiness_triplets_leak[i], nb_spikes_triplets_leak[i], intraburst_f_triplets_leak[i], \n",
    "        interburst_f_triplets_leak[i]) = (NaN, NaN, NaN, NaN)\n",
    "  else\n",
    "    (burstiness_triplets_leak[i], nb_spikes_triplets_leak[i], intraburst_f_triplets_leak[i], \n",
    "        interburst_f_triplets_leak[i]) = extract_burstiness(V_t, t)\n",
    "  end\n",
    "end\n",
    "\n",
    "# Removing unsuccessful simulations (only fews)\n",
    "burstiness_triplets_leak = burstiness_triplets_leak[.!isnan.(burstiness_triplets_leak)]\n",
    "nb_spikes_triplets_leak = nb_spikes_triplets_leak[.!isnan.(nb_spikes_triplets_leak)]\n",
    "intraburst_f_triplets_leak = intraburst_f_triplets_leak[.!isnan.(intraburst_f_triplets_leak)]\n",
    "interburst_f_triplets_leak = interburst_f_triplets_leak[.!isnan.(interburst_f_triplets_leak)]\n",
    "\n",
    "# Initializing variables\n",
    "burstiness_bursting_leak = zeros(ncells)\n",
    "nb_spikes_bursting_leak = zeros(ncells)\n",
    "intraburst_f_bursting_leak = zeros(ncells)\n",
    "interburst_f_bursting_leak = zeros(ncells)\n",
    "\n",
    "# Loop over all neurons in the set\n",
    "@showprogress 1 \"Computing second part...\" for i = 1 : ncells\n",
    "  # Extracting the maximal ion channel conductances\n",
    "  (gNa, gKd, gCaL, gCaN, gERG, gNMDA, gleak) = g_all_bursting_leak[i, :]\n",
    "\n",
    "  # Input current definition\n",
    "  Iapp = 0.\n",
    "\n",
    "  # Parameter vector for simulations\n",
    "  p = [Iapp, gNa, gKd, gCaL, gCaN, gERG, gNMDA, gleak, C]\n",
    "\n",
    "  # Initial conditions\n",
    "  V0 = -90.\n",
    "  x0 = [V0, m_inf(V0), h_inf(V0), n_inf(V0), mCaL_inf(V0), mCaN_inf(V0), 0., 0.]\n",
    "    \n",
    "  # Simulation\n",
    "  prob = ODEProblem(DA_ODE, x0, tspan, p)\n",
    "  sol = solve(prob, saveat=0.1, verbose=false)\n",
    "\n",
    "  # Removing transient part\n",
    "  V_t = sol[1, :][5001 : end]\n",
    "  t = sol.t[5001 : end]\n",
    "    \n",
    "  # Computing the burstiness and burst characteristics of the firing pattern\n",
    "  if t[end] != 10000.0\n",
    "    (burstiness_bursting_leak[i], nb_spikes_bursting_leak[i], intraburst_f_bursting_leak[i], \n",
    "        interburst_f_bursting_leak[i]) = (NaN, NaN, NaN, NaN)\n",
    "  else\n",
    "    (burstiness_bursting_leak[i], nb_spikes_bursting_leak[i], intraburst_f_bursting_leak[i], \n",
    "        interburst_f_bursting_leak[i]) = extract_burstiness(V_t, t)\n",
    "  end\n",
    "end\n",
    "\n",
    "# Removing unsuccessful simulations (only fews)\n",
    "burstiness_bursting_leak = burstiness_bursting_leak[.!isnan.(burstiness_bursting_leak)]\n",
    "nb_spikes_bursting_leak = nb_spikes_bursting_leak[.!isnan.(nb_spikes_bursting_leak)]\n",
    "intraburst_f_bursting_leak = intraburst_f_bursting_leak[.!isnan.(intraburst_f_bursting_leak)]\n",
    "interburst_f_bursting_leak = interburst_f_bursting_leak[.!isnan.(interburst_f_bursting_leak)];"
   ]
  },
  {
   "cell_type": "code",
   "execution_count": 37,
   "id": "57b3ef87",
   "metadata": {},
   "outputs": [],
   "source": [
    "writedlm(\"./data/burstiness_triplets_leak.dat\", burstiness_triplets_leak)\n",
    "\n",
    "writedlm(\"./data/burstiness_bursting_leak.dat\", burstiness_bursting_leak);"
   ]
  },
  {
   "cell_type": "markdown",
   "id": "8539c241",
   "metadata": {},
   "source": [
    "# **Computing neurons along neuromodulation paths (Figure 6)**"
   ]
  },
  {
   "cell_type": "code",
   "execution_count": 39,
   "id": "bb2fe703",
   "metadata": {},
   "outputs": [
    {
     "name": "stderr",
     "output_type": "stream",
     "text": [
      "\u001b[32mComputing...100%|███████████████████████████████████████| Time: 1:01:31\u001b[39m\n"
     ]
    }
   ],
   "source": [
    "# Fixing random seed\n",
    "Random.seed!(224)\n",
    "\n",
    "# Initializing some variables\n",
    "gsths = 0.5 : -0.005 : -4.\n",
    "n = 40\n",
    "gCaLs = zeros(length(gsths), n)\n",
    "gCaNs = zeros(length(gsths), n)\n",
    "burstiness = zeros(length(gsths), n)\n",
    "\n",
    "# Input current definition\n",
    "Iapp = 0.\n",
    "\n",
    "# Initial firing pattern\n",
    "(g_all_init, ICs_th_init) = degeneracy_fixDICs_neuromod(n, gsths[1], guth, Vth)\n",
    "\n",
    "# Looping over all neuromodulated states\n",
    "@showprogress 1 \"Computing...\" for i = 1 : length(gsths)\n",
    "    # Neuromodulating the initial set\n",
    "    (g_all, ICs_th) = neuromodCaLCaN(n, g_all_init, ICs_th_init, gsths[i], guth)\n",
    "    \n",
    "    gCaLs[i, :] = g_all[:, 3]\n",
    "    gCaNs[i, :] = g_all[:, 4]\n",
    "    \n",
    "    # Looping over the set to compute the burstiness\n",
    "    for j = 1 : n\n",
    "        # Extracting the maximal ion channel conductances\n",
    "        (gNa, gKd, gCaL, gCaN, gERG, gNMDA, gleak) = g_all[j, :]\n",
    "\n",
    "        # Parameter vector for simulations\n",
    "        p = [Iapp, gNa, gKd, gCaL, gCaN, gERG, gNMDA, gleak, C]\n",
    "\n",
    "        # Initial conditions\n",
    "        V0 = -90.\n",
    "        x0 = [V0, m_inf(V0), h_inf(V0), n_inf(V0), mCaL_inf(V0), mCaN_inf(V0), 0., 0.]\n",
    "\n",
    "        # Simulation\n",
    "        prob = ODEProblem(DA_ODE, x0, tspan, p)\n",
    "        sol = solve(prob, saveat=0.1, verbose=false)\n",
    "\n",
    "        # Removing transient part\n",
    "        V_t = sol[1, :][5001 : end]\n",
    "        t = sol.t[5001 : end]\n",
    "\n",
    "        # Computing the burstiness and burst characteristics of the firing pattern\n",
    "        if t[end] != 10000.0\n",
    "            (burstiness[i, j], _, _, _) = (0, NaN, NaN, NaN)\n",
    "        else\n",
    "            (burstiness[i, j], _, _, _) = extract_burstiness(V_t, t)\n",
    "        end\n",
    "\n",
    "        # If spiking\n",
    "        if isnan(burstiness[i, j])\n",
    "            burstiness[i, j] = 0.\n",
    "        end\n",
    "    end\n",
    "end"
   ]
  },
  {
   "cell_type": "code",
   "execution_count": 42,
   "id": "b2dce6f7",
   "metadata": {},
   "outputs": [],
   "source": [
    "writedlm(\"./data/gCaLs_paths.dat\", gCaLs)\n",
    "\n",
    "writedlm(\"./data/gCaNs_paths.dat\", gCaNs)\n",
    "\n",
    "writedlm(\"./data/burstiness_paths.dat\", burstiness)\n",
    "\n",
    "writedlm(\"./data/g_all_init_paths.dat\", g_all_init);"
   ]
  },
  {
   "cell_type": "markdown",
   "id": "0ad14265",
   "metadata": {},
   "source": [
    "# **Computing low frequency tonic spiking neurons using homogeneous scaling (Figure supp 1)**"
   ]
  },
  {
   "cell_type": "code",
   "execution_count": 50,
   "id": "576b4a8e",
   "metadata": {},
   "outputs": [
    {
     "name": "stderr",
     "output_type": "stream",
     "text": [
      "WARNING: redefinition of constant ncells. This may fail, cause incorrect answers, or produce other errors.\n"
     ]
    }
   ],
   "source": [
    "# Definition of the number of cells in the random set\n",
    "const ncells = 200\n",
    "\n",
    "g_all_MC = readdlm(\"./data/g_all_MC.dat\");"
   ]
  },
  {
   "cell_type": "code",
   "execution_count": 52,
   "id": "4a8b34fa",
   "metadata": {},
   "outputs": [],
   "source": [
    "# Number of ion channels in the DA model\n",
    "nb_channels = 6\n",
    "\n",
    "# Initializing some variables\n",
    "g_all_MC_wout_NMDA = zeros(ncells, nb_channels)\n",
    "\n",
    "# Removing NMDA channels from the PCA analysis since it is constant\n",
    "j = 1\n",
    "for i in [1, 2, 3, 4, 5, 7]\n",
    "    g_all_MC_wout_NMDA[:, j] = deepcopy(g_all_MC[:, i])\n",
    "    j = j + 1\n",
    "end\n",
    "\n",
    "# Means on spiking point cloud\n",
    "mean_MC = zeros(1, nb_channels)\n",
    "mean!(mean_MC, g_all_MC_wout_NMDA)\n",
    "\n",
    "# Defining scaling factors and limits for the plots\n",
    "s1 = 2\n",
    "s2 = 2\n",
    "Na_max = 60\n",
    "Kd_max = 20\n",
    "CaL_max = 0.1\n",
    "CaN_max = 0.3\n",
    "ERG_max = 0.25\n",
    "leak_max = 0.02\n",
    "\n",
    "# Defining scaling factors for homogeneous scaling\n",
    "gNa_scaling = mean_MC[1] / mean_MC[6]\n",
    "gKd_scaling = mean_MC[2] / mean_MC[6]\n",
    "gCaL_scaling = mean_MC[3] / mean_MC[6]\n",
    "gCaN_scaling = mean_MC[4] / mean_MC[6]\n",
    "gERG_scaling = mean_MC[5] / mean_MC[6];"
   ]
  },
  {
   "cell_type": "code",
   "execution_count": 53,
   "id": "83898eae",
   "metadata": {},
   "outputs": [],
   "source": [
    "# Fixing random seed\n",
    "Random.seed!(225)\n",
    "\n",
    "# Initializing a flag\n",
    "flag_start = true\n",
    "\n",
    "for i = 1 : 200\n",
    "    # Generating random conductances\n",
    "    gleak = 0.006 + 0.0125 * rand(1, 1)[1]\n",
    "    gCaL = gleak * gCaL_scaling\n",
    "    gKd = gleak * gKd_scaling\n",
    "    gNMDA = gleak * (0.12) / 0.013\n",
    "    gNa = gleak * gNa_scaling\n",
    "    gCaN = gleak * gCaN_scaling\n",
    "    gERG = gleak * gERG_scaling\n",
    "        \n",
    "    if flag_start\n",
    "        # Creating the conductance matrix\n",
    "        global g_all_MC_leak = [gNa, gKd, gCaL, gCaN, gERG, gNMDA, gleak]\n",
    "        flag_start = false\n",
    "    else\n",
    "        # Adding a line to the conductance matrix\n",
    "        g_all_MC_leak = hcat(g_all_MC_leak, [gNa, gKd, gCaL, gCaN, gERG, gNMDA, gleak])\n",
    "    end\n",
    "end\n",
    "\n",
    "# Transposing the conductance matrix\n",
    "if @isdefined g_all_MC_leak\n",
    "    g_all_MC_leak = g_all_MC_leak'\n",
    "end;"
   ]
  },
  {
   "cell_type": "code",
   "execution_count": 54,
   "id": "fb7cad09",
   "metadata": {},
   "outputs": [
    {
     "name": "stderr",
     "output_type": "stream",
     "text": [
      "\u001b[32mComputing...100%|███████████████████████████████████████| Time: 0:12:58\u001b[39m\n"
     ]
    }
   ],
   "source": [
    "# Input current definition\n",
    "Iapp = 0. : -0.01 : -1.\n",
    "\n",
    "# Initializing some variables\n",
    "f_leak = zeros(length(Iapp), ncells)\n",
    "\n",
    "@showprogress 1 \"Computing...\" for (k, Iapp_i) in enumerate(Iapp)\n",
    "    # Looping over all neurons\n",
    "    for i = 1 : ncells\n",
    "        # Retrieving maximal conductances from what had been computed\n",
    "        (gNa, gKd, gCaL, gCaN, gERG, gNMDA, gleak) = g_all_MC_leak[i, :]\n",
    "\n",
    "        # Parameter vector for simulations\n",
    "        p = [Iapp_i, gNa, gKd, gCaL, gCaN, gERG, gNMDA, gleak, C]\n",
    "\n",
    "        # Initial conditions\n",
    "        V0 = -90.\n",
    "        x0 = [V0, m_inf(V0), h_inf(V0), n_inf(V0), mCaL_inf(V0), mCaN_inf(V0), 0., 0.]\n",
    "\n",
    "        # Simulation\n",
    "        prob = ODEProblem(DA_ODE, x0, tspan, p) # Describing the problem\n",
    "        sol = solve(prob, saveat=0.1) # Solving the problem\n",
    "\n",
    "        # Saving results\n",
    "        VV = sol[1, 50001:end]\n",
    "        tt = sol.t[50001:end]\n",
    "\n",
    "        # Computing spiking frequency\n",
    "        if tt[end] != Tfinal\n",
    "            f_leak[k, i] = 0.\n",
    "        else\n",
    "            f_leak[k, i] = extract_frequency(VV, tt)\n",
    "            if isnan(f_leak[k, i])\n",
    "                f_leak[k, i] = 0.\n",
    "            end\n",
    "        end\n",
    "    end\n",
    "end"
   ]
  },
  {
   "cell_type": "code",
   "execution_count": 56,
   "id": "7131e12c",
   "metadata": {},
   "outputs": [],
   "source": [
    "# Initializing some variables\n",
    "rheobase = zeros(ncells)\n",
    "\n",
    "# Computing the rheobase for each neuon\n",
    "for i = 1 : ncells\n",
    "    f_leak_i = f_leak[:, i]\n",
    "    rheobase[i] = maximum(Iapp[findall(f_leak[:, i] .<= 0.)])\n",
    "end"
   ]
  },
  {
   "cell_type": "code",
   "execution_count": 60,
   "id": "89932d67",
   "metadata": {},
   "outputs": [],
   "source": [
    "writedlm(\"./data/g_all_MC_leak.dat\", g_all_MC_leak)\n",
    "\n",
    "writedlm(\"./data/f_leak.dat\", f_leak)\n",
    "\n",
    "writedlm(\"./data/Iapp.dat\", Iapp)\n",
    "\n",
    "writedlm(\"./data/rheobase.dat\", rheobase);"
   ]
  }
 ],
 "metadata": {
  "@webio": {
   "lastCommId": null,
   "lastKernelId": null
  },
  "kernelspec": {
   "display_name": "Julia 1.7.2",
   "language": "julia",
   "name": "julia-1.7"
  },
  "language_info": {
   "file_extension": ".jl",
   "mimetype": "application/julia",
   "name": "julia",
   "version": "1.7.2"
  }
 },
 "nbformat": 4,
 "nbformat_minor": 5
}
